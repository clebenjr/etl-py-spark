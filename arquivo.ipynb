{
 "cells": [
  {
   "cell_type": "code",
   "execution_count": 1,
   "id": "44cc5643",
   "metadata": {},
   "outputs": [],
   "source": [
    "from pyspark.sql import SparkSession"
   ]
  },
  {
   "cell_type": "code",
   "execution_count": 2,
   "id": "e43997a8",
   "metadata": {},
   "outputs": [],
   "source": [
    "spark = SparkSession \\\n",
    "    .builder \\\n",
    "    .appName(\"Exercício PySpark\") \\\n",
    "    .config('spark.ui.port', '4050') \\\n",
    "    .getOrCreate()"
   ]
  },
  {
   "cell_type": "code",
   "execution_count": 3,
   "id": "105601aa",
   "metadata": {},
   "outputs": [
    {
     "data": {
      "text/html": [
       "\n",
       "            <div>\n",
       "                <p><b>SparkSession - in-memory</b></p>\n",
       "                \n",
       "        <div>\n",
       "            <p><b>SparkContext</b></p>\n",
       "\n",
       "            <p><a href=\"http://ClebenJr:4050\">Spark UI</a></p>\n",
       "\n",
       "            <dl>\n",
       "              <dt>Version</dt>\n",
       "                <dd><code>v4.0.0</code></dd>\n",
       "              <dt>Master</dt>\n",
       "                <dd><code>local[*]</code></dd>\n",
       "              <dt>AppName</dt>\n",
       "                <dd><code>Exercício PySpark</code></dd>\n",
       "            </dl>\n",
       "        </div>\n",
       "        \n",
       "            </div>\n",
       "        "
      ],
      "text/plain": [
       "<pyspark.sql.session.SparkSession at 0x1971f5eb8c0>"
      ]
     },
     "execution_count": 3,
     "metadata": {},
     "output_type": "execute_result"
    }
   ],
   "source": [
    "spark"
   ]
  },
  {
   "cell_type": "code",
   "execution_count": 4,
   "id": "22d1b548",
   "metadata": {},
   "outputs": [],
   "source": [
    "df_parquet = spark.read.parquet(\"dados_cadastro_1.parquet\")\n",
    "df_csv = spark.read.csv(\"dados_cadastro_2.csv\", header=True, sep = \"|\")\n",
    "df_json = spark.read.json(\"dados_cadastro_3.json\")"
   ]
  },
  {
   "cell_type": "code",
   "execution_count": 5,
   "id": "8da0396b",
   "metadata": {},
   "outputs": [
    {
     "name": "stdout",
     "output_type": "stream",
     "text": [
      "+--------------+------------------------+---------------+----+------------+------------------------+------+-----------------------+---------------------+------+-------------------+---+-----------------+\n",
      "|documento_cpf |nome_completo           |data_nascimento|sexo|convenio    |logradouro              |numero|bairro                 |cidade               |pais  |data_cadastro      |uf |__index_level_0__|\n",
      "+--------------+------------------------+---------------+----+------------+------------------------+------+-----------------------+---------------------+------+-------------------+---+-----------------+\n",
      "|390.628.415-89|Caroline Rocha          |1982-02-28     |Fem |GoodHealth  |Trevo Santos            |773   |Vila Antena            |Cardoso              |Brasil|1979-10-19T08:09:16|AC |207979           |\n",
      "|360.847.952-00|Dr. Luiz Otávio Monteiro|2020-09-04     |Masc|Porto Seguro|Trevo Mariana Alves     |184   |Marmiteiros            |Gonçalves            |Brasil|2012-01-22T00:21:53|AC |518164           |\n",
      "|415.932.076-70|Srta. Emanuelly Caldeira|2011-10-28     |Fem |Prata       |Residencial Mendes      |449   |Vila Puc               |Pinto                |Brasil|2022-03-16T08:37:34|AC |532404           |\n",
      "|024.653.789-29|Fernanda Dias           |1995-01-21     |Fem |Sulamerica  |Alameda de Carvalho     |912   |Santo André            |da Mata Verde        |Brasil|1971-03-29T13:31:18|AC |372357           |\n",
      "|135.987.460-75|Cauã Pires              |2020-09-03     |Masc|SaudeMais   |Fazenda de Nunes        |002   |Alto Caiçaras          |Azevedo              |Brasil|2020-01-04T12:02:59|AC |357298           |\n",
      "|791.238.560-68|Danilo da Costa         |2003-06-16     |Masc|SaudeMais   |Vereda Campos           |407   |Boa Esperança          |Ferreira             |Brasil|2006-09-20T19:06:37|AC |250563           |\n",
      "|896.075.213-40|Gabriela Novaes         |1986-09-22     |Fem |Porto Seguro|Passarela Heitor da Cruz|800   |Paraíso                |Mendes do Sul        |Brasil|1987-12-31T20:48:24|AC |488531           |\n",
      "|751.386.029-77|Ana Beatriz Porto       |1986-09-22     |Fem |Itau        |Pátio Davi Lucas Nunes  |686   |Europa                 |Monteiro             |Brasil|2006-04-17T19:43:05|AC |584494           |\n",
      "|145.763.820-71|Rodrigo Martins         |1981-04-24     |Masc|Prata       |Recanto Vieira          |223   |Vila Antena            |Rocha                |Brasil|2013-04-06T03:19:28|AC |631855           |\n",
      "|417.298.365-00|Davi Cunha              |1995-01-22     |Masc|SUS         |Residencial de da Cunha |847   |Beija Flor             |Gomes do Campo       |Brasil|1972-11-15T17:44:20|AC |671927           |\n",
      "|867.053.241-71|Nicolas Melo            |1971-10-04     |Masc|Porto Seguro|Vila de Duarte          |416   |Santa Inês             |Farias               |Brasil|1973-11-06T03:21:29|AC |4239             |\n",
      "|561.943.207-61|Henrique Nunes          |1989-04-25     |Masc|Bradesco    |Vereda de Duarte        |275   |Penha                  |Caldeira dos Dourados|Brasil|1978-12-03T04:51:57|AC |445636           |\n",
      "|910.452.837-97|Cecília da Rocha        |1981-04-24     |Fem |AMIL        |Vale de Pinto           |666   |Beira Linha            |da Cunha Alegre      |Brasil|1998-05-12T12:57:39|AC |473988           |\n",
      "|976.403.285-00|Cauê Oliveira           |2017-10-24     |Masc|Gold        |Sítio Fernando Barros   |496   |Braúnas                |Rocha                |Brasil|2021-05-12T15:59:55|AC |252309           |\n",
      "|103.684.725-07|Ana Luiza Rocha         |1998-10-25     |Fem |Bradesco    |Morro Cecília Nunes     |209   |Oeste                  |Oliveira das Flores  |Brasil|2017-12-06T23:47:02|AC |430773           |\n",
      "|039.741.856-66|Heitor Costela          |2017-10-24     |Masc|Sulamerica  |Residencial de Santos   |200   |Vila Satélite          |Almeida da Mata      |Brasil|1970-07-23T14:14:26|AC |196057           |\n",
      "|635.172.049-43|Sr. Lucas Gabriel Fogaça|2020-09-02     |Masc|SUS         |Alameda Laís Peixoto    |583   |Jardim Dos Comerciarios|Monteiro             |Brasil|2022-04-20T06:17:00|AC |454619           |\n",
      "|431.056.827-08|Marcelo Costela         |1995-01-22     |Masc|Bradesco    |Via Sabrina Alves       |077   |Marçola                |Teixeira             |Brasil|1975-02-28T13:39:15|AC |487694           |\n",
      "|869.571.340-75|Maria Eduarda Martins   |2003-06-16     |Fem |Gold        |Avenida de Nunes        |170   |Santa Lúcia            |Teixeira da Mata     |Brasil|1970-01-15T19:26:01|AC |529885           |\n",
      "|489.376.512-46|Enrico Oliveira         |1986-09-22     |Masc|Bronze      |Alameda de Carvalho     |343   |Corumbiara             |Vieira do Campo      |Brasil|1999-03-06T19:10:35|AC |160247           |\n",
      "+--------------+------------------------+---------------+----+------------+------------------------+------+-----------------------+---------------------+------+-------------------+---+-----------------+\n",
      "only showing top 20 rows\n",
      "+-----------+----------------------+---------------+----+--------+--------------------------+------+-----------------------------+--------------------+------+-------------------+-------------+\n",
      "|cpf        |nome                  |data_nascimento|sexo|convenio|logradouro                |numero|bairro                       |cidade              |estado|data_cadastro      |pais_cadastro|\n",
      "+-----------+----------------------+---------------+----+--------+--------------------------+------+-----------------------------+--------------------+------+-------------------+-------------+\n",
      "|03687145271|Maria Cecília Duarte  |02/11/1989     |Fem |AMIL    |Jardim Rodrigues          |335.0 |São Geraldo                  |Gonçalves           |CE    |1970-07-28 10:05:02|Br           |\n",
      "|40791586375|Maria Cecília Alves   |10/05/1980     |Fem |AMIL    |Viela de Ribeiro          |651.0 |Goiania                      |Rezende da Praia    |AP    |1992-03-12 07:10:16|Br           |\n",
      "|52983647056|Laura Cardoso         |02/09/1997     |Fem |AMIL    |Pátio Brenda Ribeiro      |64.0  |Acaiaca                      |Campos Grande       |PR    |1977-01-03 07:55:38|Br           |\n",
      "|81267390530|Sophia Melo           |24/04/2018     |Fem |AMIL    |Lagoa Kevin das Neves     |846.0 |Conjunto Celso Machado       |Fernandes           |RO    |1981-03-05 15:27:34|Br           |\n",
      "|07935684200|Melissa da Costa      |28/05/1988     |Fem |AMIL    |Pátio de Ribeiro          |385.0 |Pousada Santo Antonio        |da Mata             |MG    |2011-10-08 20:37:40|Br           |\n",
      "|08526941720|Srta. Isabella Almeida|22/12/1996     |Fem |AMIL    |Chácara Santos            |928.0 |Alto Barroca                 |Aragão de Porto     |PE    |1980-08-16 19:01:44|Br           |\n",
      "|08145326915|Dra. Beatriz das Neves|23/08/1989     |Fem |AMIL    |Feira João Gabriel Azevedo|104.0 |Ventosa                      |Martins             |MS    |1987-02-04 00:03:35|Br           |\n",
      "|95120348750|Sabrina Cunha         |24/08/1988     |Fem |AMIL    |Chácara Farias            |358.0 |Vila Nossa Senhora Do Rosário|Jesus de Minas      |PR    |1983-09-07 00:04:53|Br           |\n",
      "|36420815762|Isis Alves            |21/10/1994     |Fem |AMIL    |Colônia Alves             |922.0 |Granja Werneck               |Fernandes de Cardoso|RR    |1991-04-30 16:12:41|Br           |\n",
      "|36958470184|Igor Alves            |16/06/2019     |Masc|AMIL    |Viela Nicolas Aragão      |810.0 |Conjunto Santa Maria         |Freitas             |PB    |2005-03-20 13:34:21|Br           |\n",
      "|79310584610|Gustavo Moreira       |28/12/1991     |Masc|AMIL    |Alameda Fernanda Castro   |850.0 |São Jorge 3ª Seção           |Araújo              |PA    |1978-06-09 10:38:03|Br           |\n",
      "|76024953143|João Lucas Souza      |08/07/1983     |Masc|AMIL    |Estrada Pinto             |591.0 |Vista Do Sol                 |Nogueira            |SP    |1979-09-02 20:50:49|Br           |\n",
      "|31607259877|Mariane Cardoso       |24/06/1999     |Fem |AMIL    |Parque Santos             |52.0  |Vila Rica                    |da Paz              |PI    |2021-01-18 11:45:41|Br           |\n",
      "|82751403662|Srta. Júlia Pinto     |21/11/1997     |Fem |AMIL    |Vereda Campos             |905.0 |Lagoinha Leblon              |da Cunha            |MT    |2003-07-13 15:06:14|Br           |\n",
      "|40358761271|Srta. Lorena Souza    |24/10/2019     |Fem |AMIL    |Condomínio Ribeiro        |630.0 |Vista Alegre                 |Rezende da Prata    |AC    |2022-09-07 01:14:30|Br           |\n",
      "|70952184630|Igor Carvalho         |13/08/2021     |Masc|AMIL    |Viela de Azevedo          |887.0 |Piraja                       |da Rocha do Sul     |PE    |1986-11-14 11:36:06|Br           |\n",
      "|78239145655|Enzo Gabriel Campos   |30/05/2003     |Masc|AMIL    |Aeroporto de Farias       |849.0 |Bacurau                      |da Paz              |TO    |1996-06-04 19:29:23|Br           |\n",
      "|90846571285|Raul Cardoso          |23/09/2019     |Masc|AMIL    |Esplanada de Viana        |923.0 |Vila Formosa                 |Mendes              |MG    |1975-11-08 15:09:27|Br           |\n",
      "|84576031244|Sra. Clarice Rodrigues|31/12/2014     |Fem |AMIL    |Residencial de Fernandes  |769.0 |Garças                       |Moura               |SP    |2013-03-18 20:54:27|Br           |\n",
      "|34650981298|Heitor Caldeira       |22/09/1978     |Masc|AMIL    |Fazenda de Ferreira       |724.0 |Vila Ipiranga                |Lopes de da Mota    |MG    |1973-10-04 18:43:43|Br           |\n",
      "+-----------+----------------------+---------------+----+--------+--------------------------+------+-----------------------------+--------------------+------+-------------------+-------------+\n",
      "only showing top 20 rows\n",
      "+-----------------------------+-------------------+--------+--------------+-------------+------------------+------------------+-------------------------------+-----------------------+------+----+----+\n",
      "|bairro                       |cidade             |convenio|cpf           |data_cadastro|data_nascimento   |estado            |logradouro                     |nome                   |numero|pais|sexo|\n",
      "+-----------------------------+-------------------+--------+--------------+-------------+------------------+------------------+-------------------------------+-----------------------+------+----+----+\n",
      "|Vila Madre Gertrudes 3ª Seção|Ribeiro Grande     |AMIL    |573.691.208-21|817032248000 |August 26, 2017   |Amapá             |Largo de Viana                 |Ryan Santos            |886   |    |M   |\n",
      "|Havaí                        |Caldeira das Flores|AMIL    |520.936.741-06|1009317437000|January 30, 2023  |Mato Grosso do Sul|Rodovia Nina Alves             |Juliana Correia        |545   |    |F   |\n",
      "|Caiçaras                     |Barbosa            |AMIL    |012.698.435-24|511111127000 |January 06, 1979  |São Paulo         |Rua Peixoto                    |Juliana Rodrigues      |728   |    |F   |\n",
      "|São Jorge 3ª Seção           |Cavalcanti         |AMIL    |541.860.972-67|387761682000 |May 01, 2008      |Tocantins         |Setor Costa                    |Letícia Novaes         |794   |    |F   |\n",
      "|São Sebastião                |da Cruz            |AMIL    |532.409.678-47|682956806000 |September 17, 1981|Paraíba           |Vale Ana Sophia da Paz         |Evelyn Moura           |196   |    |F   |\n",
      "|Nova Pampulha                |Barros             |AMIL    |219.534.870-41|1222310576000|March 29, 1973    |Paraná            |Travessa Catarina Cardoso      |Mariana Barros         |963   |    |F   |\n",
      "|Vila Primeiro De Maio        |da Cunha de da Mota|AMIL    |582.973.160-68|733837342000 |August 13, 1987   |Rio de Janeiro    |Estação de Barbosa             |Sr. Danilo da Rosa     |789   |    |M   |\n",
      "|Miramar                      |Moraes de Freitas  |AMIL    |763.490.812-69|1636486360000|June 01, 2013     |Paraná            |Distrito Rebeca Cunha          |Carlos Eduardo Viana   |705   |    |M   |\n",
      "|Vila Aeroporto               |Almeida da Mata    |AMIL    |190.427.358-05|649774552000 |April 29, 1985    |Pernambuco        |Lagoa Sarah Cardoso            |Mariana Fogaça         |962   |    |F   |\n",
      "|Vila Inestan                 |Silveira do Norte  |AMIL    |358.124.970-79|1168663441000|June 20, 1992     |Paraná            |Avenida Benjamin da Cunha      |Luiz Henrique Lima     |209   |    |M   |\n",
      "|Boa União 1ª Seção           |das Neves          |AMIL    |651.293.784-82|75408605000  |December 03, 1974 |Paraíba           |Passarela Cavalcanti           |Eduarda Castro         |217   |    |F   |\n",
      "|Horto                        |Gomes da Prata     |AMIL    |938.457.201-23|1071034980000|October 15, 2006  |Rio de Janeiro    |Sítio Rafael da Luz            |Dr. Pedro Miguel Mendes|996   |    |M   |\n",
      "|Vila São Francisco           |da Cunha das Flores|AMIL    |892.651.730-68|1531962008000|March 21, 2009    |Mato Grosso do Sul|Aeroporto Ana Carolina da Costa|Marina Peixoto         |987   |    |F   |\n",
      "|Alto Vera Cruz               |Pereira do Sul     |AMIL    |193.548.670-57|341261472000 |April 14, 1986    |Rio Grande do Sul |Recanto Alves                  |Lucas Ferreira         |681   |    |M   |\n",
      "|Cardoso                      |Ramos              |AMIL    |150.249.637-25|112869456000 |October 04, 2017  |Rio Grande do Sul |Pátio Emanuel Porto            |Pedro Nascimento       |150   |    |M   |\n",
      "|Lindéia                      |Ferreira da Mata   |AMIL    |798.541.206-94|586782035000 |September 21, 1995|Mato Grosso       |Setor de da Conceição          |Giovanna Cardoso       |57    |    |F   |\n",
      "|Santo Agostinho              |Farias de Goiás    |AMIL    |758.306.914-93|29714204000  |September 09, 2007|Distrito Federal  |Vereda Danilo Costa            |Maitê Sales            |654   |    |F   |\n",
      "|Vila Santo Antônio           |da Paz             |AMIL    |935.687.142-64|1423170865000|September 11, 2022|Amapá             |Lagoa Joana Martins            |Sr. Juan Pires         |592   |    |M   |\n",
      "|Flamengo                     |Vieira             |AMIL    |764.058.391-84|685889544000 |January 19, 2010  |Alagoas           |Passarela Monteiro             |Kaique da Luz          |29    |    |M   |\n",
      "|Canadá                       |Rodrigues do Norte |AMIL    |341.276.580-53|1370438856000|August 27, 2010   |Paraná            |Feira Brenda Jesus             |Lucca Oliveira         |666   |    |M   |\n",
      "+-----------------------------+-------------------+--------+--------------+-------------+------------------+------------------+-------------------------------+-----------------------+------+----+----+\n",
      "only showing top 20 rows\n"
     ]
    }
   ],
   "source": [
    "#observando as linhas iniciais de cada df\n",
    "df_parquet.show(truncate=False)\n",
    "df_csv.show(truncate=False)\n",
    "df_json.show(truncate=False)"
   ]
  },
  {
   "cell_type": "code",
   "execution_count": 6,
   "id": "8b6c0c22",
   "metadata": {},
   "outputs": [
    {
     "name": "stdout",
     "output_type": "stream",
     "text": [
      "root\n",
      " |-- documento_cpf: string (nullable = true)\n",
      " |-- nome_completo: string (nullable = true)\n",
      " |-- data_nascimento: string (nullable = true)\n",
      " |-- sexo: string (nullable = true)\n",
      " |-- convenio: string (nullable = true)\n",
      " |-- logradouro: string (nullable = true)\n",
      " |-- numero: string (nullable = true)\n",
      " |-- bairro: string (nullable = true)\n",
      " |-- cidade: string (nullable = true)\n",
      " |-- pais: string (nullable = true)\n",
      " |-- data_cadastro: string (nullable = true)\n",
      " |-- uf: string (nullable = true)\n",
      " |-- __index_level_0__: long (nullable = true)\n",
      "\n",
      "root\n",
      " |-- cpf: string (nullable = true)\n",
      " |-- nome: string (nullable = true)\n",
      " |-- data_nascimento: string (nullable = true)\n",
      " |-- sexo: string (nullable = true)\n",
      " |-- convenio: string (nullable = true)\n",
      " |-- logradouro: string (nullable = true)\n",
      " |-- numero: string (nullable = true)\n",
      " |-- bairro: string (nullable = true)\n",
      " |-- cidade: string (nullable = true)\n",
      " |-- estado: string (nullable = true)\n",
      " |-- data_cadastro: string (nullable = true)\n",
      " |-- pais_cadastro: string (nullable = true)\n",
      "\n",
      "root\n",
      " |-- bairro: string (nullable = true)\n",
      " |-- cidade: string (nullable = true)\n",
      " |-- convenio: string (nullable = true)\n",
      " |-- cpf: string (nullable = true)\n",
      " |-- data_cadastro: long (nullable = true)\n",
      " |-- data_nascimento: string (nullable = true)\n",
      " |-- estado: string (nullable = true)\n",
      " |-- logradouro: string (nullable = true)\n",
      " |-- nome: string (nullable = true)\n",
      " |-- numero: long (nullable = true)\n",
      " |-- pais: string (nullable = true)\n",
      " |-- sexo: string (nullable = true)\n",
      "\n"
     ]
    }
   ],
   "source": [
    "#observando schema dos df\n",
    "df_parquet.printSchema()\n",
    "df_csv.printSchema()\n",
    "df_json.printSchema()"
   ]
  },
  {
   "cell_type": "code",
   "execution_count": 7,
   "id": "6b3e21e9",
   "metadata": {},
   "outputs": [
    {
     "name": "stdout",
     "output_type": "stream",
     "text": [
      "['documento_cpf', 'nome_completo', 'data_nascimento', 'sexo', 'convenio', 'logradouro', 'numero', 'bairro', 'cidade', 'pais', 'data_cadastro', 'uf', '__index_level_0__'] 13\n",
      "['cpf', 'nome', 'data_nascimento', 'sexo', 'convenio', 'logradouro', 'numero', 'bairro', 'cidade', 'estado', 'data_cadastro', 'pais_cadastro'] 12\n",
      "['bairro', 'cidade', 'convenio', 'cpf', 'data_cadastro', 'data_nascimento', 'estado', 'logradouro', 'nome', 'numero', 'pais', 'sexo'] 12\n"
     ]
    }
   ],
   "source": [
    "#observando as colunas e quantas sao em cada df\n",
    "print(df_parquet.columns, len(df_parquet.columns))\n",
    "print(df_csv.columns, len(df_csv.columns))\n",
    "print(df_json.columns, len(df_json.columns))"
   ]
  },
  {
   "cell_type": "code",
   "execution_count": 8,
   "id": "34c3d745",
   "metadata": {},
   "outputs": [],
   "source": [
    "#ordem e nomes das colunas que quero usar\n",
    "\n",
    "ordem_cols = ['nome',\n",
    "'cpf',\n",
    "'data_nascimento',\n",
    "'sexo',\n",
    "'logradouro',\n",
    "'numero',\n",
    "'bairro',\n",
    "'cidade',\n",
    "'estado',\n",
    "'pais',\n",
    "'convenio',\n",
    "'data_cadastro']"
   ]
  },
  {
   "cell_type": "code",
   "execution_count": 9,
   "id": "56115d26",
   "metadata": {},
   "outputs": [
    {
     "name": "stdout",
     "output_type": "stream",
     "text": [
      "+--------------+------------------------+---------------+----+------------+------------------------+------+-----------------------+---------------------+------+-------------------+------+\n",
      "|cpf           |nome                    |data_nascimento|sexo|convenio    |logradouro              |numero|bairro                 |cidade               |pais  |data_cadastro      |estado|\n",
      "+--------------+------------------------+---------------+----+------------+------------------------+------+-----------------------+---------------------+------+-------------------+------+\n",
      "|390.628.415-89|Caroline Rocha          |1982-02-28     |Fem |GoodHealth  |Trevo Santos            |773   |Vila Antena            |Cardoso              |Brasil|1979-10-19T08:09:16|AC    |\n",
      "|360.847.952-00|Dr. Luiz Otávio Monteiro|2020-09-04     |Masc|Porto Seguro|Trevo Mariana Alves     |184   |Marmiteiros            |Gonçalves            |Brasil|2012-01-22T00:21:53|AC    |\n",
      "|415.932.076-70|Srta. Emanuelly Caldeira|2011-10-28     |Fem |Prata       |Residencial Mendes      |449   |Vila Puc               |Pinto                |Brasil|2022-03-16T08:37:34|AC    |\n",
      "|024.653.789-29|Fernanda Dias           |1995-01-21     |Fem |Sulamerica  |Alameda de Carvalho     |912   |Santo André            |da Mata Verde        |Brasil|1971-03-29T13:31:18|AC    |\n",
      "|135.987.460-75|Cauã Pires              |2020-09-03     |Masc|SaudeMais   |Fazenda de Nunes        |002   |Alto Caiçaras          |Azevedo              |Brasil|2020-01-04T12:02:59|AC    |\n",
      "|791.238.560-68|Danilo da Costa         |2003-06-16     |Masc|SaudeMais   |Vereda Campos           |407   |Boa Esperança          |Ferreira             |Brasil|2006-09-20T19:06:37|AC    |\n",
      "|896.075.213-40|Gabriela Novaes         |1986-09-22     |Fem |Porto Seguro|Passarela Heitor da Cruz|800   |Paraíso                |Mendes do Sul        |Brasil|1987-12-31T20:48:24|AC    |\n",
      "|751.386.029-77|Ana Beatriz Porto       |1986-09-22     |Fem |Itau        |Pátio Davi Lucas Nunes  |686   |Europa                 |Monteiro             |Brasil|2006-04-17T19:43:05|AC    |\n",
      "|145.763.820-71|Rodrigo Martins         |1981-04-24     |Masc|Prata       |Recanto Vieira          |223   |Vila Antena            |Rocha                |Brasil|2013-04-06T03:19:28|AC    |\n",
      "|417.298.365-00|Davi Cunha              |1995-01-22     |Masc|SUS         |Residencial de da Cunha |847   |Beija Flor             |Gomes do Campo       |Brasil|1972-11-15T17:44:20|AC    |\n",
      "|867.053.241-71|Nicolas Melo            |1971-10-04     |Masc|Porto Seguro|Vila de Duarte          |416   |Santa Inês             |Farias               |Brasil|1973-11-06T03:21:29|AC    |\n",
      "|561.943.207-61|Henrique Nunes          |1989-04-25     |Masc|Bradesco    |Vereda de Duarte        |275   |Penha                  |Caldeira dos Dourados|Brasil|1978-12-03T04:51:57|AC    |\n",
      "|910.452.837-97|Cecília da Rocha        |1981-04-24     |Fem |AMIL        |Vale de Pinto           |666   |Beira Linha            |da Cunha Alegre      |Brasil|1998-05-12T12:57:39|AC    |\n",
      "|976.403.285-00|Cauê Oliveira           |2017-10-24     |Masc|Gold        |Sítio Fernando Barros   |496   |Braúnas                |Rocha                |Brasil|2021-05-12T15:59:55|AC    |\n",
      "|103.684.725-07|Ana Luiza Rocha         |1998-10-25     |Fem |Bradesco    |Morro Cecília Nunes     |209   |Oeste                  |Oliveira das Flores  |Brasil|2017-12-06T23:47:02|AC    |\n",
      "|039.741.856-66|Heitor Costela          |2017-10-24     |Masc|Sulamerica  |Residencial de Santos   |200   |Vila Satélite          |Almeida da Mata      |Brasil|1970-07-23T14:14:26|AC    |\n",
      "|635.172.049-43|Sr. Lucas Gabriel Fogaça|2020-09-02     |Masc|SUS         |Alameda Laís Peixoto    |583   |Jardim Dos Comerciarios|Monteiro             |Brasil|2022-04-20T06:17:00|AC    |\n",
      "|431.056.827-08|Marcelo Costela         |1995-01-22     |Masc|Bradesco    |Via Sabrina Alves       |077   |Marçola                |Teixeira             |Brasil|1975-02-28T13:39:15|AC    |\n",
      "|869.571.340-75|Maria Eduarda Martins   |2003-06-16     |Fem |Gold        |Avenida de Nunes        |170   |Santa Lúcia            |Teixeira da Mata     |Brasil|1970-01-15T19:26:01|AC    |\n",
      "|489.376.512-46|Enrico Oliveira         |1986-09-22     |Masc|Bronze      |Alameda de Carvalho     |343   |Corumbiara             |Vieira do Campo      |Brasil|1999-03-06T19:10:35|AC    |\n",
      "+--------------+------------------------+---------------+----+------------+------------------------+------+-----------------------+---------------------+------+-------------------+------+\n",
      "only showing top 20 rows\n"
     ]
    }
   ],
   "source": [
    "#padronizando nome das colunas\n",
    "#parquet\n",
    "nome_cols_parquet = ['cpf', 'nome', 'data_nascimento', 'sexo', 'convenio', 'logradouro', 'numero', 'bairro', 'cidade', 'pais', 'data_cadastro', 'estado']\n",
    "\n",
    "#excluindo a coluna index_level_0 do parquet\n",
    "df_parquet = df_parquet.drop(\"__index_level_0__\")\n",
    "\n",
    "df_parquet = df_parquet.toDF(*nome_cols_parquet)\n",
    "df_parquet.show(truncate=False)"
   ]
  },
  {
   "cell_type": "code",
   "execution_count": 10,
   "id": "a962f8df",
   "metadata": {},
   "outputs": [
    {
     "name": "stdout",
     "output_type": "stream",
     "text": [
      "+-----------+----------------------+---------------+----+--------+--------------------------+------+-----------------------------+--------------------+------+-------------------+----+\n",
      "|cpf        |nome                  |data_nascimento|sexo|convenio|logradouro                |numero|bairro                       |cidade              |estado|data_cadastro      |pais|\n",
      "+-----------+----------------------+---------------+----+--------+--------------------------+------+-----------------------------+--------------------+------+-------------------+----+\n",
      "|03687145271|Maria Cecília Duarte  |02/11/1989     |Fem |AMIL    |Jardim Rodrigues          |335.0 |São Geraldo                  |Gonçalves           |CE    |1970-07-28 10:05:02|Br  |\n",
      "|40791586375|Maria Cecília Alves   |10/05/1980     |Fem |AMIL    |Viela de Ribeiro          |651.0 |Goiania                      |Rezende da Praia    |AP    |1992-03-12 07:10:16|Br  |\n",
      "|52983647056|Laura Cardoso         |02/09/1997     |Fem |AMIL    |Pátio Brenda Ribeiro      |64.0  |Acaiaca                      |Campos Grande       |PR    |1977-01-03 07:55:38|Br  |\n",
      "|81267390530|Sophia Melo           |24/04/2018     |Fem |AMIL    |Lagoa Kevin das Neves     |846.0 |Conjunto Celso Machado       |Fernandes           |RO    |1981-03-05 15:27:34|Br  |\n",
      "|07935684200|Melissa da Costa      |28/05/1988     |Fem |AMIL    |Pátio de Ribeiro          |385.0 |Pousada Santo Antonio        |da Mata             |MG    |2011-10-08 20:37:40|Br  |\n",
      "|08526941720|Srta. Isabella Almeida|22/12/1996     |Fem |AMIL    |Chácara Santos            |928.0 |Alto Barroca                 |Aragão de Porto     |PE    |1980-08-16 19:01:44|Br  |\n",
      "|08145326915|Dra. Beatriz das Neves|23/08/1989     |Fem |AMIL    |Feira João Gabriel Azevedo|104.0 |Ventosa                      |Martins             |MS    |1987-02-04 00:03:35|Br  |\n",
      "|95120348750|Sabrina Cunha         |24/08/1988     |Fem |AMIL    |Chácara Farias            |358.0 |Vila Nossa Senhora Do Rosário|Jesus de Minas      |PR    |1983-09-07 00:04:53|Br  |\n",
      "|36420815762|Isis Alves            |21/10/1994     |Fem |AMIL    |Colônia Alves             |922.0 |Granja Werneck               |Fernandes de Cardoso|RR    |1991-04-30 16:12:41|Br  |\n",
      "|36958470184|Igor Alves            |16/06/2019     |Masc|AMIL    |Viela Nicolas Aragão      |810.0 |Conjunto Santa Maria         |Freitas             |PB    |2005-03-20 13:34:21|Br  |\n",
      "|79310584610|Gustavo Moreira       |28/12/1991     |Masc|AMIL    |Alameda Fernanda Castro   |850.0 |São Jorge 3ª Seção           |Araújo              |PA    |1978-06-09 10:38:03|Br  |\n",
      "|76024953143|João Lucas Souza      |08/07/1983     |Masc|AMIL    |Estrada Pinto             |591.0 |Vista Do Sol                 |Nogueira            |SP    |1979-09-02 20:50:49|Br  |\n",
      "|31607259877|Mariane Cardoso       |24/06/1999     |Fem |AMIL    |Parque Santos             |52.0  |Vila Rica                    |da Paz              |PI    |2021-01-18 11:45:41|Br  |\n",
      "|82751403662|Srta. Júlia Pinto     |21/11/1997     |Fem |AMIL    |Vereda Campos             |905.0 |Lagoinha Leblon              |da Cunha            |MT    |2003-07-13 15:06:14|Br  |\n",
      "|40358761271|Srta. Lorena Souza    |24/10/2019     |Fem |AMIL    |Condomínio Ribeiro        |630.0 |Vista Alegre                 |Rezende da Prata    |AC    |2022-09-07 01:14:30|Br  |\n",
      "|70952184630|Igor Carvalho         |13/08/2021     |Masc|AMIL    |Viela de Azevedo          |887.0 |Piraja                       |da Rocha do Sul     |PE    |1986-11-14 11:36:06|Br  |\n",
      "|78239145655|Enzo Gabriel Campos   |30/05/2003     |Masc|AMIL    |Aeroporto de Farias       |849.0 |Bacurau                      |da Paz              |TO    |1996-06-04 19:29:23|Br  |\n",
      "|90846571285|Raul Cardoso          |23/09/2019     |Masc|AMIL    |Esplanada de Viana        |923.0 |Vila Formosa                 |Mendes              |MG    |1975-11-08 15:09:27|Br  |\n",
      "|84576031244|Sra. Clarice Rodrigues|31/12/2014     |Fem |AMIL    |Residencial de Fernandes  |769.0 |Garças                       |Moura               |SP    |2013-03-18 20:54:27|Br  |\n",
      "|34650981298|Heitor Caldeira       |22/09/1978     |Masc|AMIL    |Fazenda de Ferreira       |724.0 |Vila Ipiranga                |Lopes de da Mota    |MG    |1973-10-04 18:43:43|Br  |\n",
      "+-----------+----------------------+---------------+----+--------+--------------------------+------+-----------------------------+--------------------+------+-------------------+----+\n",
      "only showing top 20 rows\n"
     ]
    }
   ],
   "source": [
    "# csv\n",
    "df_csv = df_csv.withColumnRenamed(\"pais_cadastro\",\"pais\")\n",
    "df_csv.show(truncate=False)"
   ]
  },
  {
   "cell_type": "code",
   "execution_count": 11,
   "id": "1ea0bf05",
   "metadata": {},
   "outputs": [
    {
     "name": "stdout",
     "output_type": "stream",
     "text": [
      "+-----------------------------+-------------------+--------+--------------+-------------+------------------+------------------+-------------------------------+-----------------------+------+----+----+\n",
      "|bairro                       |cidade             |convenio|cpf           |data_cadastro|data_nascimento   |estado            |logradouro                     |nome                   |numero|pais|sexo|\n",
      "+-----------------------------+-------------------+--------+--------------+-------------+------------------+------------------+-------------------------------+-----------------------+------+----+----+\n",
      "|Vila Madre Gertrudes 3ª Seção|Ribeiro Grande     |AMIL    |573.691.208-21|817032248000 |August 26, 2017   |Amapá             |Largo de Viana                 |Ryan Santos            |886   |    |M   |\n",
      "|Havaí                        |Caldeira das Flores|AMIL    |520.936.741-06|1009317437000|January 30, 2023  |Mato Grosso do Sul|Rodovia Nina Alves             |Juliana Correia        |545   |    |F   |\n",
      "|Caiçaras                     |Barbosa            |AMIL    |012.698.435-24|511111127000 |January 06, 1979  |São Paulo         |Rua Peixoto                    |Juliana Rodrigues      |728   |    |F   |\n",
      "|São Jorge 3ª Seção           |Cavalcanti         |AMIL    |541.860.972-67|387761682000 |May 01, 2008      |Tocantins         |Setor Costa                    |Letícia Novaes         |794   |    |F   |\n",
      "|São Sebastião                |da Cruz            |AMIL    |532.409.678-47|682956806000 |September 17, 1981|Paraíba           |Vale Ana Sophia da Paz         |Evelyn Moura           |196   |    |F   |\n",
      "|Nova Pampulha                |Barros             |AMIL    |219.534.870-41|1222310576000|March 29, 1973    |Paraná            |Travessa Catarina Cardoso      |Mariana Barros         |963   |    |F   |\n",
      "|Vila Primeiro De Maio        |da Cunha de da Mota|AMIL    |582.973.160-68|733837342000 |August 13, 1987   |Rio de Janeiro    |Estação de Barbosa             |Sr. Danilo da Rosa     |789   |    |M   |\n",
      "|Miramar                      |Moraes de Freitas  |AMIL    |763.490.812-69|1636486360000|June 01, 2013     |Paraná            |Distrito Rebeca Cunha          |Carlos Eduardo Viana   |705   |    |M   |\n",
      "|Vila Aeroporto               |Almeida da Mata    |AMIL    |190.427.358-05|649774552000 |April 29, 1985    |Pernambuco        |Lagoa Sarah Cardoso            |Mariana Fogaça         |962   |    |F   |\n",
      "|Vila Inestan                 |Silveira do Norte  |AMIL    |358.124.970-79|1168663441000|June 20, 1992     |Paraná            |Avenida Benjamin da Cunha      |Luiz Henrique Lima     |209   |    |M   |\n",
      "|Boa União 1ª Seção           |das Neves          |AMIL    |651.293.784-82|75408605000  |December 03, 1974 |Paraíba           |Passarela Cavalcanti           |Eduarda Castro         |217   |    |F   |\n",
      "|Horto                        |Gomes da Prata     |AMIL    |938.457.201-23|1071034980000|October 15, 2006  |Rio de Janeiro    |Sítio Rafael da Luz            |Dr. Pedro Miguel Mendes|996   |    |M   |\n",
      "|Vila São Francisco           |da Cunha das Flores|AMIL    |892.651.730-68|1531962008000|March 21, 2009    |Mato Grosso do Sul|Aeroporto Ana Carolina da Costa|Marina Peixoto         |987   |    |F   |\n",
      "|Alto Vera Cruz               |Pereira do Sul     |AMIL    |193.548.670-57|341261472000 |April 14, 1986    |Rio Grande do Sul |Recanto Alves                  |Lucas Ferreira         |681   |    |M   |\n",
      "|Cardoso                      |Ramos              |AMIL    |150.249.637-25|112869456000 |October 04, 2017  |Rio Grande do Sul |Pátio Emanuel Porto            |Pedro Nascimento       |150   |    |M   |\n",
      "|Lindéia                      |Ferreira da Mata   |AMIL    |798.541.206-94|586782035000 |September 21, 1995|Mato Grosso       |Setor de da Conceição          |Giovanna Cardoso       |57    |    |F   |\n",
      "|Santo Agostinho              |Farias de Goiás    |AMIL    |758.306.914-93|29714204000  |September 09, 2007|Distrito Federal  |Vereda Danilo Costa            |Maitê Sales            |654   |    |F   |\n",
      "|Vila Santo Antônio           |da Paz             |AMIL    |935.687.142-64|1423170865000|September 11, 2022|Amapá             |Lagoa Joana Martins            |Sr. Juan Pires         |592   |    |M   |\n",
      "|Flamengo                     |Vieira             |AMIL    |764.058.391-84|685889544000 |January 19, 2010  |Alagoas           |Passarela Monteiro             |Kaique da Luz          |29    |    |M   |\n",
      "|Canadá                       |Rodrigues do Norte |AMIL    |341.276.580-53|1370438856000|August 27, 2010   |Paraná            |Feira Brenda Jesus             |Lucca Oliveira         |666   |    |M   |\n",
      "+-----------------------------+-------------------+--------+--------------+-------------+------------------+------------------+-------------------------------+-----------------------+------+----+----+\n",
      "only showing top 20 rows\n"
     ]
    }
   ],
   "source": [
    "#json\n",
    "#nome das colunas do json já está correto\n",
    "df_json.show(truncate=False)"
   ]
  },
  {
   "cell_type": "code",
   "execution_count": 13,
   "id": "b8d9fbae",
   "metadata": {},
   "outputs": [
    {
     "name": "stdout",
     "output_type": "stream",
     "text": [
      "+------------------------+--------------+---------------+----+------------------------+------+-----------------------+---------------------+------+------+------------+-------------------+\n",
      "|nome                    |cpf           |data_nascimento|sexo|logradouro              |numero|bairro                 |cidade               |estado|pais  |convenio    |data_cadastro      |\n",
      "+------------------------+--------------+---------------+----+------------------------+------+-----------------------+---------------------+------+------+------------+-------------------+\n",
      "|Caroline Rocha          |390.628.415-89|1982-02-28     |Fem |Trevo Santos            |773   |Vila Antena            |Cardoso              |AC    |Brasil|GoodHealth  |1979-10-19T08:09:16|\n",
      "|Dr. Luiz Otávio Monteiro|360.847.952-00|2020-09-04     |Masc|Trevo Mariana Alves     |184   |Marmiteiros            |Gonçalves            |AC    |Brasil|Porto Seguro|2012-01-22T00:21:53|\n",
      "|Srta. Emanuelly Caldeira|415.932.076-70|2011-10-28     |Fem |Residencial Mendes      |449   |Vila Puc               |Pinto                |AC    |Brasil|Prata       |2022-03-16T08:37:34|\n",
      "|Fernanda Dias           |024.653.789-29|1995-01-21     |Fem |Alameda de Carvalho     |912   |Santo André            |da Mata Verde        |AC    |Brasil|Sulamerica  |1971-03-29T13:31:18|\n",
      "|Cauã Pires              |135.987.460-75|2020-09-03     |Masc|Fazenda de Nunes        |002   |Alto Caiçaras          |Azevedo              |AC    |Brasil|SaudeMais   |2020-01-04T12:02:59|\n",
      "|Danilo da Costa         |791.238.560-68|2003-06-16     |Masc|Vereda Campos           |407   |Boa Esperança          |Ferreira             |AC    |Brasil|SaudeMais   |2006-09-20T19:06:37|\n",
      "|Gabriela Novaes         |896.075.213-40|1986-09-22     |Fem |Passarela Heitor da Cruz|800   |Paraíso                |Mendes do Sul        |AC    |Brasil|Porto Seguro|1987-12-31T20:48:24|\n",
      "|Ana Beatriz Porto       |751.386.029-77|1986-09-22     |Fem |Pátio Davi Lucas Nunes  |686   |Europa                 |Monteiro             |AC    |Brasil|Itau        |2006-04-17T19:43:05|\n",
      "|Rodrigo Martins         |145.763.820-71|1981-04-24     |Masc|Recanto Vieira          |223   |Vila Antena            |Rocha                |AC    |Brasil|Prata       |2013-04-06T03:19:28|\n",
      "|Davi Cunha              |417.298.365-00|1995-01-22     |Masc|Residencial de da Cunha |847   |Beija Flor             |Gomes do Campo       |AC    |Brasil|SUS         |1972-11-15T17:44:20|\n",
      "|Nicolas Melo            |867.053.241-71|1971-10-04     |Masc|Vila de Duarte          |416   |Santa Inês             |Farias               |AC    |Brasil|Porto Seguro|1973-11-06T03:21:29|\n",
      "|Henrique Nunes          |561.943.207-61|1989-04-25     |Masc|Vereda de Duarte        |275   |Penha                  |Caldeira dos Dourados|AC    |Brasil|Bradesco    |1978-12-03T04:51:57|\n",
      "|Cecília da Rocha        |910.452.837-97|1981-04-24     |Fem |Vale de Pinto           |666   |Beira Linha            |da Cunha Alegre      |AC    |Brasil|AMIL        |1998-05-12T12:57:39|\n",
      "|Cauê Oliveira           |976.403.285-00|2017-10-24     |Masc|Sítio Fernando Barros   |496   |Braúnas                |Rocha                |AC    |Brasil|Gold        |2021-05-12T15:59:55|\n",
      "|Ana Luiza Rocha         |103.684.725-07|1998-10-25     |Fem |Morro Cecília Nunes     |209   |Oeste                  |Oliveira das Flores  |AC    |Brasil|Bradesco    |2017-12-06T23:47:02|\n",
      "|Heitor Costela          |039.741.856-66|2017-10-24     |Masc|Residencial de Santos   |200   |Vila Satélite          |Almeida da Mata      |AC    |Brasil|Sulamerica  |1970-07-23T14:14:26|\n",
      "|Sr. Lucas Gabriel Fogaça|635.172.049-43|2020-09-02     |Masc|Alameda Laís Peixoto    |583   |Jardim Dos Comerciarios|Monteiro             |AC    |Brasil|SUS         |2022-04-20T06:17:00|\n",
      "|Marcelo Costela         |431.056.827-08|1995-01-22     |Masc|Via Sabrina Alves       |077   |Marçola                |Teixeira             |AC    |Brasil|Bradesco    |1975-02-28T13:39:15|\n",
      "|Maria Eduarda Martins   |869.571.340-75|2003-06-16     |Fem |Avenida de Nunes        |170   |Santa Lúcia            |Teixeira da Mata     |AC    |Brasil|Gold        |1970-01-15T19:26:01|\n",
      "|Enrico Oliveira         |489.376.512-46|1986-09-22     |Masc|Alameda de Carvalho     |343   |Corumbiara             |Vieira do Campo      |AC    |Brasil|Bronze      |1999-03-06T19:10:35|\n",
      "+------------------------+--------------+---------------+----+------------------------+------+-----------------------+---------------------+------+------+------------+-------------------+\n",
      "only showing top 20 rows\n",
      "+----------------------+-----------+---------------+----+--------------------------+------+-----------------------------+--------------------+------+----+--------+-------------------+\n",
      "|nome                  |cpf        |data_nascimento|sexo|logradouro                |numero|bairro                       |cidade              |estado|pais|convenio|data_cadastro      |\n",
      "+----------------------+-----------+---------------+----+--------------------------+------+-----------------------------+--------------------+------+----+--------+-------------------+\n",
      "|Maria Cecília Duarte  |03687145271|02/11/1989     |Fem |Jardim Rodrigues          |335.0 |São Geraldo                  |Gonçalves           |CE    |Br  |AMIL    |1970-07-28 10:05:02|\n",
      "|Maria Cecília Alves   |40791586375|10/05/1980     |Fem |Viela de Ribeiro          |651.0 |Goiania                      |Rezende da Praia    |AP    |Br  |AMIL    |1992-03-12 07:10:16|\n",
      "|Laura Cardoso         |52983647056|02/09/1997     |Fem |Pátio Brenda Ribeiro      |64.0  |Acaiaca                      |Campos Grande       |PR    |Br  |AMIL    |1977-01-03 07:55:38|\n",
      "|Sophia Melo           |81267390530|24/04/2018     |Fem |Lagoa Kevin das Neves     |846.0 |Conjunto Celso Machado       |Fernandes           |RO    |Br  |AMIL    |1981-03-05 15:27:34|\n",
      "|Melissa da Costa      |07935684200|28/05/1988     |Fem |Pátio de Ribeiro          |385.0 |Pousada Santo Antonio        |da Mata             |MG    |Br  |AMIL    |2011-10-08 20:37:40|\n",
      "|Srta. Isabella Almeida|08526941720|22/12/1996     |Fem |Chácara Santos            |928.0 |Alto Barroca                 |Aragão de Porto     |PE    |Br  |AMIL    |1980-08-16 19:01:44|\n",
      "|Dra. Beatriz das Neves|08145326915|23/08/1989     |Fem |Feira João Gabriel Azevedo|104.0 |Ventosa                      |Martins             |MS    |Br  |AMIL    |1987-02-04 00:03:35|\n",
      "|Sabrina Cunha         |95120348750|24/08/1988     |Fem |Chácara Farias            |358.0 |Vila Nossa Senhora Do Rosário|Jesus de Minas      |PR    |Br  |AMIL    |1983-09-07 00:04:53|\n",
      "|Isis Alves            |36420815762|21/10/1994     |Fem |Colônia Alves             |922.0 |Granja Werneck               |Fernandes de Cardoso|RR    |Br  |AMIL    |1991-04-30 16:12:41|\n",
      "|Igor Alves            |36958470184|16/06/2019     |Masc|Viela Nicolas Aragão      |810.0 |Conjunto Santa Maria         |Freitas             |PB    |Br  |AMIL    |2005-03-20 13:34:21|\n",
      "|Gustavo Moreira       |79310584610|28/12/1991     |Masc|Alameda Fernanda Castro   |850.0 |São Jorge 3ª Seção           |Araújo              |PA    |Br  |AMIL    |1978-06-09 10:38:03|\n",
      "|João Lucas Souza      |76024953143|08/07/1983     |Masc|Estrada Pinto             |591.0 |Vista Do Sol                 |Nogueira            |SP    |Br  |AMIL    |1979-09-02 20:50:49|\n",
      "|Mariane Cardoso       |31607259877|24/06/1999     |Fem |Parque Santos             |52.0  |Vila Rica                    |da Paz              |PI    |Br  |AMIL    |2021-01-18 11:45:41|\n",
      "|Srta. Júlia Pinto     |82751403662|21/11/1997     |Fem |Vereda Campos             |905.0 |Lagoinha Leblon              |da Cunha            |MT    |Br  |AMIL    |2003-07-13 15:06:14|\n",
      "|Srta. Lorena Souza    |40358761271|24/10/2019     |Fem |Condomínio Ribeiro        |630.0 |Vista Alegre                 |Rezende da Prata    |AC    |Br  |AMIL    |2022-09-07 01:14:30|\n",
      "|Igor Carvalho         |70952184630|13/08/2021     |Masc|Viela de Azevedo          |887.0 |Piraja                       |da Rocha do Sul     |PE    |Br  |AMIL    |1986-11-14 11:36:06|\n",
      "|Enzo Gabriel Campos   |78239145655|30/05/2003     |Masc|Aeroporto de Farias       |849.0 |Bacurau                      |da Paz              |TO    |Br  |AMIL    |1996-06-04 19:29:23|\n",
      "|Raul Cardoso          |90846571285|23/09/2019     |Masc|Esplanada de Viana        |923.0 |Vila Formosa                 |Mendes              |MG    |Br  |AMIL    |1975-11-08 15:09:27|\n",
      "|Sra. Clarice Rodrigues|84576031244|31/12/2014     |Fem |Residencial de Fernandes  |769.0 |Garças                       |Moura               |SP    |Br  |AMIL    |2013-03-18 20:54:27|\n",
      "|Heitor Caldeira       |34650981298|22/09/1978     |Masc|Fazenda de Ferreira       |724.0 |Vila Ipiranga                |Lopes de da Mota    |MG    |Br  |AMIL    |1973-10-04 18:43:43|\n",
      "+----------------------+-----------+---------------+----+--------------------------+------+-----------------------------+--------------------+------+----+--------+-------------------+\n",
      "only showing top 20 rows\n",
      "+-----------------------+--------------+------------------+----+-------------------------------+------+-----------------------------+-------------------+------------------+----+--------+-------------+\n",
      "|nome                   |cpf           |data_nascimento   |sexo|logradouro                     |numero|bairro                       |cidade             |estado            |pais|convenio|data_cadastro|\n",
      "+-----------------------+--------------+------------------+----+-------------------------------+------+-----------------------------+-------------------+------------------+----+--------+-------------+\n",
      "|Ryan Santos            |573.691.208-21|August 26, 2017   |M   |Largo de Viana                 |886   |Vila Madre Gertrudes 3ª Seção|Ribeiro Grande     |Amapá             |    |AMIL    |817032248000 |\n",
      "|Juliana Correia        |520.936.741-06|January 30, 2023  |F   |Rodovia Nina Alves             |545   |Havaí                        |Caldeira das Flores|Mato Grosso do Sul|    |AMIL    |1009317437000|\n",
      "|Juliana Rodrigues      |012.698.435-24|January 06, 1979  |F   |Rua Peixoto                    |728   |Caiçaras                     |Barbosa            |São Paulo         |    |AMIL    |511111127000 |\n",
      "|Letícia Novaes         |541.860.972-67|May 01, 2008      |F   |Setor Costa                    |794   |São Jorge 3ª Seção           |Cavalcanti         |Tocantins         |    |AMIL    |387761682000 |\n",
      "|Evelyn Moura           |532.409.678-47|September 17, 1981|F   |Vale Ana Sophia da Paz         |196   |São Sebastião                |da Cruz            |Paraíba           |    |AMIL    |682956806000 |\n",
      "|Mariana Barros         |219.534.870-41|March 29, 1973    |F   |Travessa Catarina Cardoso      |963   |Nova Pampulha                |Barros             |Paraná            |    |AMIL    |1222310576000|\n",
      "|Sr. Danilo da Rosa     |582.973.160-68|August 13, 1987   |M   |Estação de Barbosa             |789   |Vila Primeiro De Maio        |da Cunha de da Mota|Rio de Janeiro    |    |AMIL    |733837342000 |\n",
      "|Carlos Eduardo Viana   |763.490.812-69|June 01, 2013     |M   |Distrito Rebeca Cunha          |705   |Miramar                      |Moraes de Freitas  |Paraná            |    |AMIL    |1636486360000|\n",
      "|Mariana Fogaça         |190.427.358-05|April 29, 1985    |F   |Lagoa Sarah Cardoso            |962   |Vila Aeroporto               |Almeida da Mata    |Pernambuco        |    |AMIL    |649774552000 |\n",
      "|Luiz Henrique Lima     |358.124.970-79|June 20, 1992     |M   |Avenida Benjamin da Cunha      |209   |Vila Inestan                 |Silveira do Norte  |Paraná            |    |AMIL    |1168663441000|\n",
      "|Eduarda Castro         |651.293.784-82|December 03, 1974 |F   |Passarela Cavalcanti           |217   |Boa União 1ª Seção           |das Neves          |Paraíba           |    |AMIL    |75408605000  |\n",
      "|Dr. Pedro Miguel Mendes|938.457.201-23|October 15, 2006  |M   |Sítio Rafael da Luz            |996   |Horto                        |Gomes da Prata     |Rio de Janeiro    |    |AMIL    |1071034980000|\n",
      "|Marina Peixoto         |892.651.730-68|March 21, 2009    |F   |Aeroporto Ana Carolina da Costa|987   |Vila São Francisco           |da Cunha das Flores|Mato Grosso do Sul|    |AMIL    |1531962008000|\n",
      "|Lucas Ferreira         |193.548.670-57|April 14, 1986    |M   |Recanto Alves                  |681   |Alto Vera Cruz               |Pereira do Sul     |Rio Grande do Sul |    |AMIL    |341261472000 |\n",
      "|Pedro Nascimento       |150.249.637-25|October 04, 2017  |M   |Pátio Emanuel Porto            |150   |Cardoso                      |Ramos              |Rio Grande do Sul |    |AMIL    |112869456000 |\n",
      "|Giovanna Cardoso       |798.541.206-94|September 21, 1995|F   |Setor de da Conceição          |57    |Lindéia                      |Ferreira da Mata   |Mato Grosso       |    |AMIL    |586782035000 |\n",
      "|Maitê Sales            |758.306.914-93|September 09, 2007|F   |Vereda Danilo Costa            |654   |Santo Agostinho              |Farias de Goiás    |Distrito Federal  |    |AMIL    |29714204000  |\n",
      "|Sr. Juan Pires         |935.687.142-64|September 11, 2022|M   |Lagoa Joana Martins            |592   |Vila Santo Antônio           |da Paz             |Amapá             |    |AMIL    |1423170865000|\n",
      "|Kaique da Luz          |764.058.391-84|January 19, 2010  |M   |Passarela Monteiro             |29    |Flamengo                     |Vieira             |Alagoas           |    |AMIL    |685889544000 |\n",
      "|Lucca Oliveira         |341.276.580-53|August 27, 2010   |M   |Feira Brenda Jesus             |666   |Canadá                       |Rodrigues do Norte |Paraná            |    |AMIL    |1370438856000|\n",
      "+-----------------------+--------------+------------------+----+-------------------------------+------+-----------------------------+-------------------+------------------+----+--------+-------------+\n",
      "only showing top 20 rows\n",
      "+-----------------------+--------------+------------------+----+-------------------------------+------+-----------------------------+-------------------+------------------+----+--------+-------------+\n",
      "|nome                   |cpf           |data_nascimento   |sexo|logradouro                     |numero|bairro                       |cidade             |estado            |pais|convenio|data_cadastro|\n",
      "+-----------------------+--------------+------------------+----+-------------------------------+------+-----------------------------+-------------------+------------------+----+--------+-------------+\n",
      "|Ryan Santos            |573.691.208-21|August 26, 2017   |M   |Largo de Viana                 |886   |Vila Madre Gertrudes 3ª Seção|Ribeiro Grande     |Amapá             |    |AMIL    |817032248000 |\n",
      "|Juliana Correia        |520.936.741-06|January 30, 2023  |F   |Rodovia Nina Alves             |545   |Havaí                        |Caldeira das Flores|Mato Grosso do Sul|    |AMIL    |1009317437000|\n",
      "|Juliana Rodrigues      |012.698.435-24|January 06, 1979  |F   |Rua Peixoto                    |728   |Caiçaras                     |Barbosa            |São Paulo         |    |AMIL    |511111127000 |\n",
      "|Letícia Novaes         |541.860.972-67|May 01, 2008      |F   |Setor Costa                    |794   |São Jorge 3ª Seção           |Cavalcanti         |Tocantins         |    |AMIL    |387761682000 |\n",
      "|Evelyn Moura           |532.409.678-47|September 17, 1981|F   |Vale Ana Sophia da Paz         |196   |São Sebastião                |da Cruz            |Paraíba           |    |AMIL    |682956806000 |\n",
      "|Mariana Barros         |219.534.870-41|March 29, 1973    |F   |Travessa Catarina Cardoso      |963   |Nova Pampulha                |Barros             |Paraná            |    |AMIL    |1222310576000|\n",
      "|Sr. Danilo da Rosa     |582.973.160-68|August 13, 1987   |M   |Estação de Barbosa             |789   |Vila Primeiro De Maio        |da Cunha de da Mota|Rio de Janeiro    |    |AMIL    |733837342000 |\n",
      "|Carlos Eduardo Viana   |763.490.812-69|June 01, 2013     |M   |Distrito Rebeca Cunha          |705   |Miramar                      |Moraes de Freitas  |Paraná            |    |AMIL    |1636486360000|\n",
      "|Mariana Fogaça         |190.427.358-05|April 29, 1985    |F   |Lagoa Sarah Cardoso            |962   |Vila Aeroporto               |Almeida da Mata    |Pernambuco        |    |AMIL    |649774552000 |\n",
      "|Luiz Henrique Lima     |358.124.970-79|June 20, 1992     |M   |Avenida Benjamin da Cunha      |209   |Vila Inestan                 |Silveira do Norte  |Paraná            |    |AMIL    |1168663441000|\n",
      "|Eduarda Castro         |651.293.784-82|December 03, 1974 |F   |Passarela Cavalcanti           |217   |Boa União 1ª Seção           |das Neves          |Paraíba           |    |AMIL    |75408605000  |\n",
      "|Dr. Pedro Miguel Mendes|938.457.201-23|October 15, 2006  |M   |Sítio Rafael da Luz            |996   |Horto                        |Gomes da Prata     |Rio de Janeiro    |    |AMIL    |1071034980000|\n",
      "|Marina Peixoto         |892.651.730-68|March 21, 2009    |F   |Aeroporto Ana Carolina da Costa|987   |Vila São Francisco           |da Cunha das Flores|Mato Grosso do Sul|    |AMIL    |1531962008000|\n",
      "|Lucas Ferreira         |193.548.670-57|April 14, 1986    |M   |Recanto Alves                  |681   |Alto Vera Cruz               |Pereira do Sul     |Rio Grande do Sul |    |AMIL    |341261472000 |\n",
      "|Pedro Nascimento       |150.249.637-25|October 04, 2017  |M   |Pátio Emanuel Porto            |150   |Cardoso                      |Ramos              |Rio Grande do Sul |    |AMIL    |112869456000 |\n",
      "|Giovanna Cardoso       |798.541.206-94|September 21, 1995|F   |Setor de da Conceição          |57    |Lindéia                      |Ferreira da Mata   |Mato Grosso       |    |AMIL    |586782035000 |\n",
      "|Maitê Sales            |758.306.914-93|September 09, 2007|F   |Vereda Danilo Costa            |654   |Santo Agostinho              |Farias de Goiás    |Distrito Federal  |    |AMIL    |29714204000  |\n",
      "|Sr. Juan Pires         |935.687.142-64|September 11, 2022|M   |Lagoa Joana Martins            |592   |Vila Santo Antônio           |da Paz             |Amapá             |    |AMIL    |1423170865000|\n",
      "|Kaique da Luz          |764.058.391-84|January 19, 2010  |M   |Passarela Monteiro             |29    |Flamengo                     |Vieira             |Alagoas           |    |AMIL    |685889544000 |\n",
      "|Lucca Oliveira         |341.276.580-53|August 27, 2010   |M   |Feira Brenda Jesus             |666   |Canadá                       |Rodrigues do Norte |Paraná            |    |AMIL    |1370438856000|\n",
      "+-----------------------+--------------+------------------+----+-------------------------------+------+-----------------------------+-------------------+------------------+----+--------+-------------+\n",
      "only showing top 20 rows\n"
     ]
    }
   ],
   "source": [
    "# deixando dfs com as colunas na mesma ordem\n",
    "\n",
    "df_parquet = df_parquet.select(*ordem_cols)\n",
    "df_parquet.show(truncate=False)\n",
    "\n",
    "df_csv = df_csv.select(*ordem_cols)\n",
    "df_csv.show(truncate=False)\n",
    "\n",
    "df_json = df_json.select(*ordem_cols)\n",
    "df_json.show(truncate=False)"
   ]
  },
  {
   "cell_type": "code",
   "execution_count": 17,
   "id": "8855640e",
   "metadata": {},
   "outputs": [
    {
     "name": "stdout",
     "output_type": "stream",
     "text": [
      "[('nome', 'string'), ('cpf', 'string'), ('data_nascimento', 'string'), ('sexo', 'string'), ('logradouro', 'string'), ('numero', 'string'), ('bairro', 'string'), ('cidade', 'string'), ('estado', 'string'), ('pais', 'string'), ('convenio', 'string'), ('data_cadastro', 'string')]\n",
      "[('nome', 'string'), ('cpf', 'string'), ('data_nascimento', 'string'), ('sexo', 'string'), ('logradouro', 'string'), ('numero', 'string'), ('bairro', 'string'), ('cidade', 'string'), ('estado', 'string'), ('pais', 'string'), ('convenio', 'string'), ('data_cadastro', 'string')]\n",
      "[('nome', 'string'), ('cpf', 'string'), ('data_nascimento', 'string'), ('sexo', 'string'), ('logradouro', 'string'), ('numero', 'bigint'), ('bairro', 'string'), ('cidade', 'string'), ('estado', 'string'), ('pais', 'string'), ('convenio', 'string'), ('data_cadastro', 'bigint')]\n"
     ]
    }
   ],
   "source": [
    "print(df_parquet.dtypes)\n",
    "print(df_csv.dtypes)\n",
    "print(df_json.dtypes)"
   ]
  }
 ],
 "metadata": {
  "kernelspec": {
   "display_name": "Python 3",
   "language": "python",
   "name": "python3"
  },
  "language_info": {
   "codemirror_mode": {
    "name": "ipython",
    "version": 3
   },
   "file_extension": ".py",
   "mimetype": "text/x-python",
   "name": "python",
   "nbconvert_exporter": "python",
   "pygments_lexer": "ipython3",
   "version": "3.13.3"
  }
 },
 "nbformat": 4,
 "nbformat_minor": 5
}
